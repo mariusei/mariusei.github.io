{
 "metadata": {
  "name": "AST4320 Ch 2"
 },
 "nbformat": 3,
 "nbformat_minor": 0,
 "worksheets": [
  {
   "cells": [
    {
     "cell_type": "heading",
     "level": 1,
     "metadata": {},
     "source": "Chapter 2 - Mapping our Milky Way"
    },
    {
     "cell_type": "code",
     "collapsed": false,
     "input": "%matplotlib inline",
     "language": "python",
     "metadata": {},
     "outputs": [],
     "prompt_number": 1
    },
    {
     "cell_type": "code",
     "collapsed": false,
     "input": "from math import *\nimport matplotlib.pylab as plt\nfrom numpy import *\nMsol = 1.99e+30 # kg",
     "language": "python",
     "metadata": {},
     "outputs": [],
     "prompt_number": 4
    },
    {
     "cell_type": "heading",
     "level": 3,
     "metadata": {},
     "source": "2.2 Distance modulus"
    },
    {
     "cell_type": "code",
     "collapsed": false,
     "input": "# Uncertainty d with uncertainty of 0.1 in magnitudes\nd = (10**0.1)**0.2 * 10\nprint d",
     "language": "python",
     "metadata": {},
     "outputs": [
      {
       "output_type": "stream",
       "stream": "stdout",
       "text": "10.4712854805\n"
      }
     ],
     "prompt_number": 1
    },
    {
     "cell_type": "heading",
     "level": 3,
     "metadata": {},
     "source": "2.4 Star abundance"
    },
    {
     "cell_type": "code",
     "collapsed": false,
     "input": "# Fraction of XX Msol stars still on MS?\ndef lifeMS(Msols):\n    # returns age in gigayears\n    return 10* (Msols)**(-2.5)\n\ndef lifeMSprec(Msols):\n    expr = 1.015 - 3.49 * log10(Msols) + 0.83 * (log10(Msols))**2\n    return 1 * 10**(expr)",
     "language": "python",
     "metadata": {},
     "outputs": [],
     "prompt_number": 26
    },
    {
     "cell_type": "code",
     "collapsed": false,
     "input": "# for 0.5 Msols\naa=0.5\nprint (\"Life expectancy for a %g Msol star on the MS is %g Gyrs\" % (aa,lifeMS(aa)))\nlifeMSprec(0.5)",
     "language": "python",
     "metadata": {},
     "outputs": [
      {
       "output_type": "stream",
       "stream": "stdout",
       "text": "Life expectancy for a 0.5 Msol star on the MS is 56.5685 Gyrs\n"
      },
      {
       "metadata": {},
       "output_type": "pyout",
       "prompt_number": 27,
       "text": "138.29564470589042"
      }
     ],
     "prompt_number": 27
    },
    {
     "cell_type": "code",
     "collapsed": false,
     "input": "# Assume production decays with dampening time tstar\n# ratio of visible stars to all stars of same mass\ndef ratioDecay(tgal, tms, tdamp):\n    # takes galactic age, max age for star on MS, dampening time for stellar production\n    return (exp(-tgal/tdamp) - exp(-(tgal - tms)/tdamp))/(exp(-tgal/tdamp) - 1)",
     "language": "python",
     "metadata": {},
     "outputs": [],
     "prompt_number": 6
    },
    {
     "cell_type": "code",
     "collapsed": false,
     "input": "# For stars of 2Msol:\nprint ratioDecay(10, 1.1, 3.0)",
     "language": "python",
     "metadata": {},
     "outputs": [
      {
       "output_type": "stream",
       "stream": "stdout",
       "text": "0.0163851366088\n"
      }
     ],
     "prompt_number": 7
    },
    {
     "cell_type": "code",
     "collapsed": false,
     "input": "# For stars of 3Msol:\nprint ratioDecay(10, 0.35, 3.0)",
     "language": "python",
     "metadata": {},
     "outputs": [
      {
       "output_type": "stream",
       "stream": "stdout",
       "text": "0.00457777829268\n"
      }
     ],
     "prompt_number": 8
    },
    {
     "cell_type": "code",
     "collapsed": false,
     "input": "# Test with accelerating formation of stars, tdamp<0\nprint ratioDecay(10, 1.1, -0.5)\nprint ratioDecay(10, 3, -0.5)",
     "language": "python",
     "metadata": {},
     "outputs": [
      {
       "output_type": "stream",
       "stream": "stdout",
       "text": "0.88919684347\n0.997521249879\n"
      }
     ],
     "prompt_number": 9
    },
    {
     "cell_type": "code",
     "collapsed": false,
     "input": "ages=linspace(0.05,10,100)\nx2neg = ratioDecay(10, ages, -2.0)\nx05neg= ratioDecay(10, ages, -0.5)\nx2pos = ratioDecay(10, ages, 2.0)\nx3pos = ratioDecay(10, ages, 10.0)",
     "language": "python",
     "metadata": {},
     "outputs": [],
     "prompt_number": 35
    },
    {
     "cell_type": "code",
     "collapsed": false,
     "input": "plt.plot(ages, x2neg, label='$t_*$ =-2.0')\nplt.plot(ages, x05neg, label='- 0.5')\nplt.plot(ages, x2pos, label='+ 2.0')\nplt.plot(ages, x3pos, label='+ 10')\nplt.legend()\ntau = u'\\u03C4'\nplt.xlabel(r'Main sequence apperance '+tau+r'$_{MS}$ [Gyr]')\nplt.ylabel('Fraction visible today')\nplt.show()",
     "language": "python",
     "metadata": {},
     "outputs": [
      {
       "metadata": {},
       "output_type": "display_data",
       "png": "[encoded data removed]",
       "text": "<matplotlib.figure.Figure at 0xad6af4c>"
      }
     ],
     "prompt_number": 36
    },
    {
     "cell_type": "heading",
     "level": 3,
     "metadata": {},
     "source": "2.5 Star abundance following the Initial Mass Function $\\xi$"
    },
    {
     "cell_type": "markdown",
     "metadata": {},
     "source": "Equation 2.5 can be integrated over a 100 pc cube, assuming:\n\n* Integration limits: $M_u \\gg M_l$\n\nResult:"
    },
    {
     "cell_type": "markdown",
     "metadata": {},
     "source": "$$ N = \\xi (M_u) - \\xi (M_l) = - \\frac{\\xi_0}{1.35}  \\left( \\left(  \\frac{M_{\\odot}}{M_u} \\right)^{1.35} - \\left( \\frac{M_{\\odot}}{M_l} \\right)^{1.35} \\right) $$"
    },
    {
     "cell_type": "markdown",
     "metadata": {},
     "source": "$$ N \\approx + \\frac{\\xi_0}{1.35} \\left( \\frac{M_{\\odot}}{M_l} \\right)^{1.35} $$"
    },
    {
     "cell_type": "code",
     "collapsed": false,
     "input": "def starAbuN(M_low):\n    # Takes lower limit M_low in solar masses\n    return 1./1.35 * (1./M_low)**1.35",
     "language": "python",
     "metadata": {},
     "outputs": [],
     "prompt_number": 39
    },
    {
     "cell_type": "markdown",
     "metadata": {},
     "source": "How does the abundance behave?"
    },
    {
     "cell_type": "code",
     "collapsed": false,
     "input": "Ms = linspace(0.01, 10, 250)\nNs = starAbuN(Ms)",
     "language": "python",
     "metadata": {},
     "outputs": [],
     "prompt_number": 42
    },
    {
     "cell_type": "code",
     "collapsed": false,
     "input": "fig = plt.figure()\nax1 = fig.add_subplot(1,1,1)\nax1.plot(Ms,Ns)\nax1.set_yscale('log')\nplt.xlabel('Lower limit $M_l$'+r'[$M_{\\odot}$]')\nplt.ylabel('Abundance in units of '+r'$\\xi_0$')\nplt.show()",
     "language": "python",
     "metadata": {},
     "outputs": [
      {
       "metadata": {},
       "output_type": "display_data",
       "png": "[encoded data removed]",
       "text": "<matplotlib.figure.Figure at 0xb7abd2c>"
      }
     ],
     "prompt_number": 53
    },
    {
     "cell_type": "heading",
     "level": 3,
     "metadata": {},
     "source": "2.11 Numerical model: distribution of stars and the way we see them"
    },
    {
     "cell_type": "markdown",
     "metadata": {},
     "source": "Exploring the *Malmquist bias*. \n\na) Model sky: consisting of G-type stars in regions\n\n- A: 70 pc < *d* < 90 pc\n- B: 90 pc < *d* < 110 pc\n- C: 110 pc < *d* < 130 pc\n\n*How many stars in region **B** and **C***? Assuming uniform density with ten stars in region *B*."
    },
    {
     "cell_type": "code",
     "collapsed": false,
     "input": "def shellVolume(min_rad, max_rad):\n    # Takes inner radius and outer radius of spherical shell\n    # returns volume.\n    return 4./3 * pi * (max_rad**3 - min_rad**3)",
     "language": "python",
     "metadata": {},
     "outputs": [],
     "prompt_number": 54
    },
    {
     "cell_type": "markdown",
     "metadata": {},
     "source": "Find density $\\rho_0$ which is assumed to be constant, using: 10 stars in region B:\n$$ \\rho_0 = \\frac{N}{V} $$"
    },
    {
     "cell_type": "code",
     "collapsed": false,
     "input": "rho0 = 10./shellVolume(90, 110)\nprint ('%e stars per cubic parsec' % (rho0,))",
     "language": "python",
     "metadata": {},
     "outputs": [
      {
       "output_type": "stream",
       "stream": "stdout",
       "text": "3.965655e-06 stars per cubic parsec\n"
      }
     ],
     "prompt_number": 60
    },
    {
     "cell_type": "markdown",
     "metadata": {},
     "source": "Find stars in *region **A***:\n$$N_A = \\rho_0 V_A$$"
    },
    {
     "cell_type": "code",
     "collapsed": false,
     "input": "print round(rho0 * shellVolume(70,90))",
     "language": "python",
     "metadata": {},
     "outputs": [
      {
       "output_type": "stream",
       "stream": "stdout",
       "text": "6.0\n"
      }
     ],
     "prompt_number": 67
    },
    {
     "cell_type": "markdown",
     "metadata": {},
     "source": "Find stars in *region **B***:\n$$N_B = \\rho_0 V_B$$"
    },
    {
     "cell_type": "code",
     "collapsed": false,
     "input": "print round(rho0 * shellVolume(110, 130))",
     "language": "python",
     "metadata": {},
     "outputs": [
      {
       "output_type": "stream",
       "stream": "stdout",
       "text": "14.0\n"
      }
     ],
     "prompt_number": 64
    },
    {
     "cell_type": "markdown",
     "metadata": {},
     "source": "Assuming now, for simplicity, that all the stars are located:\n\n- Region A at $d=80$ pc\n- Region B at $d=100$ pc\n- Region C at $d=120$ pc\n\nAs G stars do not all have the exact luminosity: assume variations $\\pm$ 0.3 magnitudes. *What fractional change in luminosity is this?*\n\nRelated through formula 1.10:\n$$m_1 - m_2 = -2.5 \\log (F_1 / F_2)$$"
    },
    {
     "cell_type": "code",
     "collapsed": false,
     "input": "from IPython.core.display import HTML\ndef css_styling():\n    styles = open(\"custom.css\", \"r\").read()\n    return HTML(styles)\ncss_styling()",
     "language": "python",
     "metadata": {},
     "outputs": [],
     "prompt_number": "*"
    },
    {
     "cell_type": "code",
     "collapsed": false,
     "input": "",
     "language": "python",
     "metadata": {},
     "outputs": []
    }
   ],
   "metadata": {}
  }
 ]
}
